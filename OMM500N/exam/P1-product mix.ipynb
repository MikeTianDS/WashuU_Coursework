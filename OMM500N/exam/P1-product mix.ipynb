{
 "cells": [
  {
   "cell_type": "code",
   "execution_count": 66,
   "metadata": {},
   "outputs": [],
   "source": [
    "import numpy as np \n",
    "from pulp import *"
   ]
  },
  {
   "cell_type": "code",
   "execution_count": 67,
   "metadata": {},
   "outputs": [],
   "source": [
    "p=LpProblem(\"coffee\",LpMaximize)"
   ]
  },
  {
   "cell_type": "code",
   "execution_count": 68,
   "metadata": {},
   "outputs": [],
   "source": [
    "x=LpVariable(\"x\",lowBound=10000,upBound=100000,cat='Integer')\n",
    "y=LpVariable(\"y\",lowBound=25000,upBound=100000,cat='Integer')\n",
    "z=LpVariable(\"z\",lowBound=30000,upBound=100000,cat='Integer')"
   ]
  },
  {
   "cell_type": "code",
   "execution_count": 69,
   "metadata": {},
   "outputs": [],
   "source": [
    "#objective function\n",
    "p += (1.25*x + 1.5*y + 1.4*z) - 0.6*(0.2*x + 0.35*y +0.1*z) - 0.8*(0.4*x + 0.15*y +0.35*z) - 0.55*(0.15*x + 0.2*y +0.4*z) - 0.7*(0.25*x + 0.3*y +0.15*z)\n",
    "\n",
    "\n",
    "\n",
    "\n",
    "\n",
    "\n",
    "\n",
    "\n",
    "\n",
    "#plant's constraints\n",
    "p += (x+y+z) <= 100000\n",
    "\n",
    "\n",
    "#minimum sell constraint - already done when set decision variables\n",
    "\n",
    "\n",
    "\n",
    "#maximum avilability constraint\n",
    "p += 0.2*x + 0.35*y +0.1*z <=40000\n",
    "p += 0.4*x + 0.15*y +0.35*z <=25000\n",
    "p += 0.15*x + 0.2*y +0.4*z <=20000\n",
    "p += 0.25*x + 0.3*y +0.15*z <=45000"
   ]
  },
  {
   "cell_type": "code",
   "execution_count": 70,
   "metadata": {},
   "outputs": [
    {
     "name": "stdout",
     "output_type": "stream",
     "text": [
      "Status: Optimal\n"
     ]
    }
   ],
   "source": [
    "p.writeLP(\"p.lp\") #optional\n",
    "p.solve()\n",
    "print(\"Status:\",LpStatus[p.status])\n"
   ]
  },
  {
   "cell_type": "code",
   "execution_count": 71,
   "metadata": {},
   "outputs": [
    {
     "name": "stdout",
     "output_type": "stream",
     "text": [
      "x = 10000.0 \tReduced Cost = 0.5525\n",
      "y = 32500.0 \tReduced Cost = 0.85\n",
      "z = 30000.0 \tReduced Cost = 0.735\n",
      "Total cost= 55199.999999999985\n"
     ]
    }
   ],
   "source": [
    "for v in p.variables():\n",
    "    print(v.name, \"=\", v.varValue,\"\\tReduced Cost =\", v.dj)\n",
    "    \n",
    "print(\"Total cost=\", value(p.objective))"
   ]
  },
  {
   "cell_type": "code",
   "execution_count": null,
   "metadata": {},
   "outputs": [],
   "source": []
  }
 ],
 "metadata": {
  "kernelspec": {
   "display_name": "Python 3",
   "language": "python",
   "name": "python3"
  },
  "language_info": {
   "codemirror_mode": {
    "name": "ipython",
    "version": 3
   },
   "file_extension": ".py",
   "mimetype": "text/x-python",
   "name": "python",
   "nbconvert_exporter": "python",
   "pygments_lexer": "ipython3",
   "version": "3.6.5"
  }
 },
 "nbformat": 4,
 "nbformat_minor": 2
}
