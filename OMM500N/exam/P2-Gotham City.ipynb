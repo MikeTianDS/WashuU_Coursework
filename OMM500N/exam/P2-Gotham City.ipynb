{
 "cells": [
  {
   "cell_type": "code",
   "execution_count": 9,
   "metadata": {},
   "outputs": [],
   "source": [
    "import pandas as pd\n",
    "import numpy as np\n",
    "from pulp import *"
   ]
  },
  {
   "cell_type": "code",
   "execution_count": 10,
   "metadata": {},
   "outputs": [],
   "source": [
    "p=LpProblem(\"tellers\",LpMinimize)"
   ]
  },
  {
   "cell_type": "code",
   "execution_count": 11,
   "metadata": {},
   "outputs": [],
   "source": [
    "#decision variables\n",
    "x1=LpVariable(\"x1\",lowBound=0,upBound=8,cat='Integer')\n",
    "x2=LpVariable(\"x2\",lowBound=0,upBound=8,cat='Integer')\n",
    "x9=LpVariable(\"x9\",lowBound=0,upBound=5,cat='Integer')\n",
    "x10=LpVariable(\"x10\",lowBound=0,upBound=5,cat='Integer')\n",
    "x11=LpVariable(\"x11\",lowBound=0,upBound=5,cat='Integer')\n",
    "x12=LpVariable(\"x12\",lowBound=0,upBound=5,cat='Integer')\n",
    "x13=LpVariable(\"x13\",lowBound=0,upBound=5,cat='Integer')\n",
    "x14=LpVariable(\"x14\",lowBound=0,upBound=5,cat='Integer')"
   ]
  },
  {
   "cell_type": "code",
   "execution_count": 12,
   "metadata": {},
   "outputs": [],
   "source": [
    "#demands = [4,3,4,6,5,6,8,8]\n",
    "\n",
    "\n",
    "#objective function\n",
    "p += 64*(x1+x2) + 15*(x9+x10+x11+x12+x13+x14)\n",
    "\n",
    "#demands constraints\n",
    "p += x1+x2+x9 >= 4\n",
    "p += x1+x2+x9+x10 >=3\n",
    "p += x1+x2+x9+x10+x11 >= 4\n",
    "p += x2+x10+x11+x12 >= 6\n",
    "p += x1+x11+x12+x13 >= 5\n",
    "p += x1+x2+x12+x13+x14>=6\n",
    "p += x1+x2+x13+x14 >= 8\n",
    "p += x1+x2+x14 >= 8\n",
    "\n",
    "#maximum part-time restrcition\n",
    "p += x9+x10+x11+x12+x13+x14 <= 5"
   ]
  },
  {
   "cell_type": "code",
   "execution_count": 13,
   "metadata": {},
   "outputs": [
    {
     "name": "stdout",
     "output_type": "stream",
     "text": [
      "Status: Optimal\n"
     ]
    }
   ],
   "source": [
    "p.writeLP(\"p.lp\") #optional\n",
    "p.solve()\n",
    "print(\"Status:\",LpStatus[p.status])\n"
   ]
  },
  {
   "cell_type": "code",
   "execution_count": 14,
   "metadata": {},
   "outputs": [
    {
     "name": "stdout",
     "output_type": "stream",
     "text": [
      "x1 = 2.0 \tReduced Cost = 64.0\n",
      "x10 = 0.0 \tReduced Cost = 15.0\n",
      "x11 = 0.0 \tReduced Cost = 15.0\n",
      "x12 = 3.0 \tReduced Cost = 15.0\n",
      "x13 = 0.0 \tReduced Cost = 15.0\n",
      "x14 = 2.0 \tReduced Cost = 15.0\n",
      "x2 = 4.0 \tReduced Cost = 64.0\n",
      "x9 = 0.0 \tReduced Cost = 15.0\n",
      "Total cost= 459.0\n"
     ]
    }
   ],
   "source": [
    "for v in p.variables():\n",
    "    print(v.name, \"=\", v.varValue,\"\\tReduced Cost =\", v.dj)\n",
    "    \n",
    "print(\"Total cost=\", value(p.objective))"
   ]
  }
 ],
 "metadata": {
  "kernelspec": {
   "display_name": "Python 3",
   "language": "python",
   "name": "python3"
  },
  "language_info": {
   "codemirror_mode": {
    "name": "ipython",
    "version": 3
   },
   "file_extension": ".py",
   "mimetype": "text/x-python",
   "name": "python",
   "nbconvert_exporter": "python",
   "pygments_lexer": "ipython3",
   "version": "3.6.5"
  }
 },
 "nbformat": 4,
 "nbformat_minor": 2
}
