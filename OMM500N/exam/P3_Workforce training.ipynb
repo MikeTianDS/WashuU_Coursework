{
 "cells": [
  {
   "cell_type": "code",
   "execution_count": 18,
   "metadata": {},
   "outputs": [],
   "source": [
    "from pulp import *\n",
    "import math"
   ]
  },
  {
   "cell_type": "code",
   "execution_count": 12,
   "metadata": {},
   "outputs": [],
   "source": [
    "p = LpProblem(\"Workforce Training\",LpMinimize)\n",
    "month=[7,8,9,10,11,12]\n",
    "demand={\n",
    "7:120,\n",
    "8:135,\n",
    "9:150,\n",
    "10:150,\n",
    "11:170,\n",
    "12:200   \n",
    "}\n",
    "\n",
    "turnover= 0.03\n",
    "succ_comp = 0.9\n",
    "#prod_inc = 0.2\n",
    "sal_trainee = 2000\n",
    "sal_sale = 3000\n",
    "sal_trainer = 3500\n",
    "#initial_untr =145\n",
    "initial_sale =150\n",
    "\n",
    "untrained_vars = LpVariable.dicts(\"u\", month,lowBound=0, cat='Integer')\n",
    "layoff_vars = LpVariable.dicts(\"l\", month,lowBound=0, cat='Integer')\n",
    "trainer_vars =LpVariable.dicts(\"trainer\", month,lowBound=0, cat='Integer')\n",
    "sales_vars =LpVariable.dicts(\"sales\", month,lowBound=0, cat='Integer')\n"
   ]
  },
  {
   "cell_type": "code",
   "execution_count": 13,
   "metadata": {},
   "outputs": [],
   "source": [
    "p += sal_trainee*lpSum([untrained_vars[i] for i in month]) + sal_trainer*lpSum([trainer_vars[i] for i in month]) + \\\n",
    "sal_sale*lpSum([sales_vars[i] for i in month]) , \"total salary\""
   ]
  },
  {
   "cell_type": "code",
   "execution_count": 17,
   "metadata": {},
   "outputs": [],
   "source": [
    "# initial condition\n",
    "#p += untrained_vars[1]==initial_untr,\"initial untrained\"\n",
    "p += sales_vars[7]==initial_sale,\"initial sale\""
   ]
  },
  {
   "cell_type": "code",
   "execution_count": 22,
   "metadata": {},
   "outputs": [
    {
     "ename": "TypeError",
     "evalue": "unsupported operand type(s) for /: 'LpVariable' and 'int'",
     "output_type": "error",
     "traceback": [
      "\u001b[1;31m---------------------------------------------------------------------------\u001b[0m",
      "\u001b[1;31mTypeError\u001b[0m                                 Traceback (most recent call last)",
      "\u001b[1;32m<ipython-input-22-b1a0dcfbd3d7>\u001b[0m in \u001b[0;36m<module>\u001b[1;34m()\u001b[0m\n\u001b[0;32m      1\u001b[0m \u001b[1;32mfor\u001b[0m \u001b[0mi\u001b[0m \u001b[1;32min\u001b[0m \u001b[0mmonth\u001b[0m\u001b[1;33m[\u001b[0m\u001b[1;33m:\u001b[0m\u001b[0mlen\u001b[0m\u001b[1;33m(\u001b[0m\u001b[0mmonth\u001b[0m\u001b[1;33m)\u001b[0m\u001b[1;33m-\u001b[0m\u001b[1;36m1\u001b[0m\u001b[1;33m]\u001b[0m\u001b[1;33m:\u001b[0m\u001b[1;33m\u001b[0m\u001b[0m\n\u001b[1;32m----> 2\u001b[1;33m     \u001b[0mp\u001b[0m \u001b[1;33m+=\u001b[0m \u001b[0mtrainer_vars\u001b[0m\u001b[1;33m[\u001b[0m\u001b[0mi\u001b[0m\u001b[1;33m]\u001b[0m \u001b[1;33m==\u001b[0m \u001b[0muntrained_vars\u001b[0m\u001b[1;33m[\u001b[0m\u001b[0mi\u001b[0m\u001b[1;33m]\u001b[0m\u001b[1;33m/\u001b[0m\u001b[1;36m20\u001b[0m\u001b[1;33m\u001b[0m\u001b[0m\n\u001b[0m\u001b[0;32m      3\u001b[0m       \u001b[1;31m# untrained worker blance between months:\u001b[0m\u001b[1;33m\u001b[0m\u001b[1;33m\u001b[0m\u001b[0m\n\u001b[0;32m      4\u001b[0m     \u001b[1;31m#p += (1-turnover)*(untrained_vars[i]-layoff_vars[i]-start_train_vars[i])\\\u001b[0m\u001b[1;33m\u001b[0m\u001b[1;33m\u001b[0m\u001b[0m\n\u001b[0;32m      5\u001b[0m     \u001b[1;31m#+(1-succ_comp)*start_train_vars[i] == untrained_vars[i+1],\"untrained_balance_%d\"%i\u001b[0m\u001b[1;33m\u001b[0m\u001b[1;33m\u001b[0m\u001b[0m\n",
      "\u001b[1;31mTypeError\u001b[0m: unsupported operand type(s) for /: 'LpVariable' and 'int'"
     ]
    }
   ],
   "source": [
    "for i in month[:len(month)-1]:\n",
    "    p += trainer_vars[i] == untrained_vars[i]/20\n",
    "      # untrained worker blance between months:\n",
    "    #p += (1-turnover)*(untrained_vars[i]-layoff_vars[i]-start_train_vars[i])\\\n",
    "    #+(1-succ_comp)*start_train_vars[i] == untrained_vars[i+1],\"untrained_balance_%d\"%i\n",
    "    \n",
    "    # trained worker blance between months:\n",
    "    #p += sales_vars[i]+succ_comp*untrained_vars[i] == trained_vars[i+1],\"trained_balance_%d\"%i\n",
    "    \n",
    "    #satsify demand in month i\n",
    "    #probA += (untrained_vars[i]-layoff_vars[i]-start_train_vars[i])\\\n",
    "    #+(1+prod_inc)*trained_vars[i] >= demand[i],\"satisfy demand_%d\"%i\n",
    "    \n",
    "    \n",
    "    #layoff limit\n",
    "    #p += layoff_vars[i] <= untrained_vars[i],\"layoff limit_%d\"%i\n",
    "    \n",
    "    \n",
    "    #traininng limit\n",
    "    #p += start_train_vars[i]<= untrained_vars[i]-layoff_vars[i] ,\"training limit_%d\"%i\n",
    "\n",
    "    \n",
    "    \n",
    "    \n",
    "    \n"
   ]
  },
  {
   "cell_type": "code",
   "execution_count": null,
   "metadata": {},
   "outputs": [],
   "source": [
    "#satsify demand in month 6\n",
    "probA +=(untrained_vars[len(month)]-layoff_vars[len(month)]-start_train_vars[len(month)])\\\n",
    "    +(1+prod_inc)*trained_vars[len(month)] >= demand[len(month)],\"satisfy demand_%d\"%len(month)\n",
    "#layoff limit\n",
    "probA += layoff_vars[len(month)] <= untrained_vars[len(month)],\"layoff limit_%d\"%len(month)\n",
    "#traininng limit\n",
    "probA += start_train_vars[len(month)]<= untrained_vars[len(month)]-layoff_vars[len(month)],\"training limit_%d\"%len(month)\n"
   ]
  },
  {
   "cell_type": "code",
   "execution_count": null,
   "metadata": {},
   "outputs": [],
   "source": []
  }
 ],
 "metadata": {
  "kernelspec": {
   "display_name": "Python 3",
   "language": "python",
   "name": "python3"
  },
  "language_info": {
   "codemirror_mode": {
    "name": "ipython",
    "version": 3
   },
   "file_extension": ".py",
   "mimetype": "text/x-python",
   "name": "python",
   "nbconvert_exporter": "python",
   "pygments_lexer": "ipython3",
   "version": "3.6.5"
  }
 },
 "nbformat": 4,
 "nbformat_minor": 2
}
